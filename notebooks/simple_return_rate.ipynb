{
 "cells": [
  {
   "cell_type": "code",
   "execution_count": 1,
   "metadata": {},
   "outputs": [],
   "source": [
    "from pandas_datareader import data as wb\n",
    "import matplotlib.pyplot as plt"
   ]
  },
  {
   "cell_type": "code",
   "execution_count": 18,
   "metadata": {},
   "outputs": [],
   "source": [
    "INTER = wb.DataReader('BIDI4.SA', data_source='yahoo', start='2019-1-1')"
   ]
  },
  {
   "cell_type": "code",
   "execution_count": 19,
   "metadata": {},
   "outputs": [
    {
     "data": {
      "text/html": [
       "<div>\n",
       "<style scoped>\n",
       "    .dataframe tbody tr th:only-of-type {\n",
       "        vertical-align: middle;\n",
       "    }\n",
       "\n",
       "    .dataframe tbody tr th {\n",
       "        vertical-align: top;\n",
       "    }\n",
       "\n",
       "    .dataframe thead th {\n",
       "        text-align: right;\n",
       "    }\n",
       "</style>\n",
       "<table border=\"1\" class=\"dataframe\">\n",
       "  <thead>\n",
       "    <tr style=\"text-align: right;\">\n",
       "      <th></th>\n",
       "      <th>High</th>\n",
       "      <th>Low</th>\n",
       "      <th>Open</th>\n",
       "      <th>Close</th>\n",
       "      <th>Volume</th>\n",
       "      <th>Adj Close</th>\n",
       "    </tr>\n",
       "    <tr>\n",
       "      <th>Date</th>\n",
       "      <th></th>\n",
       "      <th></th>\n",
       "      <th></th>\n",
       "      <th></th>\n",
       "      <th></th>\n",
       "      <th></th>\n",
       "    </tr>\n",
       "  </thead>\n",
       "  <tbody>\n",
       "    <tr>\n",
       "      <th>2019-01-02</th>\n",
       "      <td>6.58399</td>\n",
       "      <td>6.32162</td>\n",
       "      <td>6.36122</td>\n",
       "      <td>6.51138</td>\n",
       "      <td>1801684.0</td>\n",
       "      <td>6.207204</td>\n",
       "    </tr>\n",
       "    <tr>\n",
       "      <th>2019-01-03</th>\n",
       "      <td>6.54769</td>\n",
       "      <td>6.28037</td>\n",
       "      <td>6.47013</td>\n",
       "      <td>6.32327</td>\n",
       "      <td>3395505.0</td>\n",
       "      <td>6.027882</td>\n",
       "    </tr>\n",
       "    <tr>\n",
       "      <th>2019-01-04</th>\n",
       "      <td>6.41568</td>\n",
       "      <td>6.18796</td>\n",
       "      <td>6.39257</td>\n",
       "      <td>6.24571</td>\n",
       "      <td>4786311.0</td>\n",
       "      <td>5.953944</td>\n",
       "    </tr>\n",
       "    <tr>\n",
       "      <th>2019-01-07</th>\n",
       "      <td>6.29852</td>\n",
       "      <td>6.22261</td>\n",
       "      <td>6.24571</td>\n",
       "      <td>6.27047</td>\n",
       "      <td>985381.0</td>\n",
       "      <td>5.977548</td>\n",
       "    </tr>\n",
       "    <tr>\n",
       "      <th>2019-01-08</th>\n",
       "      <td>6.69950</td>\n",
       "      <td>6.37277</td>\n",
       "      <td>6.37277</td>\n",
       "      <td>6.56914</td>\n",
       "      <td>6894639.0</td>\n",
       "      <td>6.262266</td>\n",
       "    </tr>\n",
       "  </tbody>\n",
       "</table>\n",
       "</div>"
      ],
      "text/plain": [
       "               High      Low     Open    Close     Volume  Adj Close\n",
       "Date                                                                \n",
       "2019-01-02  6.58399  6.32162  6.36122  6.51138  1801684.0   6.207204\n",
       "2019-01-03  6.54769  6.28037  6.47013  6.32327  3395505.0   6.027882\n",
       "2019-01-04  6.41568  6.18796  6.39257  6.24571  4786311.0   5.953944\n",
       "2019-01-07  6.29852  6.22261  6.24571  6.27047   985381.0   5.977548\n",
       "2019-01-08  6.69950  6.37277  6.37277  6.56914  6894639.0   6.262266"
      ]
     },
     "execution_count": 19,
     "metadata": {},
     "output_type": "execute_result"
    }
   ],
   "source": [
    "INTER.head()"
   ]
  },
  {
   "cell_type": "code",
   "execution_count": 20,
   "metadata": {},
   "outputs": [
    {
     "data": {
      "text/html": [
       "<div>\n",
       "<style scoped>\n",
       "    .dataframe tbody tr th:only-of-type {\n",
       "        vertical-align: middle;\n",
       "    }\n",
       "\n",
       "    .dataframe tbody tr th {\n",
       "        vertical-align: top;\n",
       "    }\n",
       "\n",
       "    .dataframe thead th {\n",
       "        text-align: right;\n",
       "    }\n",
       "</style>\n",
       "<table border=\"1\" class=\"dataframe\">\n",
       "  <thead>\n",
       "    <tr style=\"text-align: right;\">\n",
       "      <th></th>\n",
       "      <th>High</th>\n",
       "      <th>Low</th>\n",
       "      <th>Open</th>\n",
       "      <th>Close</th>\n",
       "      <th>Volume</th>\n",
       "      <th>Adj Close</th>\n",
       "    </tr>\n",
       "    <tr>\n",
       "      <th>Date</th>\n",
       "      <th></th>\n",
       "      <th></th>\n",
       "      <th></th>\n",
       "      <th></th>\n",
       "      <th></th>\n",
       "      <th></th>\n",
       "    </tr>\n",
       "  </thead>\n",
       "  <tbody>\n",
       "    <tr>\n",
       "      <th>2020-01-03</th>\n",
       "      <td>16.000000</td>\n",
       "      <td>15.220000</td>\n",
       "      <td>15.350000</td>\n",
       "      <td>15.980000</td>\n",
       "      <td>2740400.0</td>\n",
       "      <td>15.980000</td>\n",
       "    </tr>\n",
       "    <tr>\n",
       "      <th>2020-01-06</th>\n",
       "      <td>17.299999</td>\n",
       "      <td>15.730000</td>\n",
       "      <td>15.920000</td>\n",
       "      <td>17.250000</td>\n",
       "      <td>5952400.0</td>\n",
       "      <td>17.250000</td>\n",
       "    </tr>\n",
       "    <tr>\n",
       "      <th>2020-01-07</th>\n",
       "      <td>17.790001</td>\n",
       "      <td>16.780001</td>\n",
       "      <td>17.299999</td>\n",
       "      <td>17.530001</td>\n",
       "      <td>5856400.0</td>\n",
       "      <td>17.530001</td>\n",
       "    </tr>\n",
       "    <tr>\n",
       "      <th>2020-01-08</th>\n",
       "      <td>17.740000</td>\n",
       "      <td>17.000000</td>\n",
       "      <td>17.549999</td>\n",
       "      <td>17.379999</td>\n",
       "      <td>2323700.0</td>\n",
       "      <td>17.379999</td>\n",
       "    </tr>\n",
       "    <tr>\n",
       "      <th>2020-01-09</th>\n",
       "      <td>17.469999</td>\n",
       "      <td>17.160000</td>\n",
       "      <td>17.379999</td>\n",
       "      <td>17.260000</td>\n",
       "      <td>494300.0</td>\n",
       "      <td>17.260000</td>\n",
       "    </tr>\n",
       "  </tbody>\n",
       "</table>\n",
       "</div>"
      ],
      "text/plain": [
       "                 High        Low       Open      Close     Volume  Adj Close\n",
       "Date                                                                        \n",
       "2020-01-03  16.000000  15.220000  15.350000  15.980000  2740400.0  15.980000\n",
       "2020-01-06  17.299999  15.730000  15.920000  17.250000  5952400.0  17.250000\n",
       "2020-01-07  17.790001  16.780001  17.299999  17.530001  5856400.0  17.530001\n",
       "2020-01-08  17.740000  17.000000  17.549999  17.379999  2323700.0  17.379999\n",
       "2020-01-09  17.469999  17.160000  17.379999  17.260000   494300.0  17.260000"
      ]
     },
     "execution_count": 20,
     "metadata": {},
     "output_type": "execute_result"
    }
   ],
   "source": [
    "INTER.tail()"
   ]
  },
  {
   "cell_type": "markdown",
   "metadata": {},
   "source": [
    "## Simple Rate of Return"
   ]
  },
  {
   "cell_type": "markdown",
   "metadata": {},
   "source": [
    "$$\n",
    "\\frac{P_1 - P_0}{P_0} = \\frac{P_1}{P_0} - 1\n",
    "$$"
   ]
  },
  {
   "cell_type": "code",
   "execution_count": 21,
   "metadata": {},
   "outputs": [
    {
     "name": "stdout",
     "output_type": "stream",
     "text": [
      "Date\n",
      "2019-01-02         NaN\n",
      "2019-01-03   -0.028889\n",
      "2019-01-04   -0.012266\n",
      "2019-01-07    0.003964\n",
      "2019-01-08    0.047631\n",
      "                ...   \n",
      "2020-01-03    0.036316\n",
      "2020-01-06    0.079474\n",
      "2020-01-07    0.016232\n",
      "2020-01-08   -0.008557\n",
      "2020-01-09   -0.006904\n",
      "Name: simple_return, Length: 253, dtype: float64\n"
     ]
    }
   ],
   "source": [
    "INTER['simple_return'] = (INTER['Adj Close'] / INTER['Adj Close'].shift(1)) - 1\n",
    "print(INTER['simple_return'])"
   ]
  },
  {
   "cell_type": "code",
   "execution_count": 22,
   "metadata": {},
   "outputs": [
    {
     "data": {
      "image/png": "[encoded data removed]",
      "text/plain": [
       "<Figure size 576x360 with 1 Axes>"
      ]
     },
     "metadata": {
      "needs_background": "light"
     },
     "output_type": "display_data"
    }
   ],
   "source": [
    "INTER['simple_return'].plot(figsize=(8, 5))\n",
    "plt.show()"
   ]
  },
  {
   "cell_type": "code",
   "execution_count": 23,
   "metadata": {},
   "outputs": [
    {
     "data": {
      "text/plain": [
       "0.004657116656163358"
      ]
     },
     "execution_count": 23,
     "metadata": {},
     "output_type": "execute_result"
    }
   ],
   "source": [
    "avg_return_d = INTER['simple_return'].mean()\n",
    "avg_return_d"
   ]
  },
  {
   "cell_type": "code",
   "execution_count": 24,
   "metadata": {},
   "outputs": [
    {
     "data": {
      "text/plain": [
       "1.1642791640408396"
      ]
     },
     "execution_count": 24,
     "metadata": {},
     "output_type": "execute_result"
    }
   ],
   "source": [
    "avg_return_a = INTER['simple_return'].mean() * 250\n",
    "avg_return_a"
   ]
  },
  {
   "cell_type": "code",
   "execution_count": 25,
   "metadata": {},
   "outputs": [
    {
     "name": "stdout",
     "output_type": "stream",
     "text": [
      "116.428% ao ano\n",
      "0.466% ao dia\n"
     ]
    }
   ],
   "source": [
    "print(f'{round(avg_return_a * 100,3)}% by year')\n",
    "print(f'{round(avg_return_d * 100,3)}% by day')"
   ]
  }
 ],
 "metadata": {
  "kernelspec": {
   "display_name": "Python 3",
   "language": "python",
   "name": "python3"
  },
  "language_info": {
   "codemirror_mode": {
    "name": "ipython",
    "version": 3
   },
   "file_extension": ".py",
   "mimetype": "text/x-python",
   "name": "python",
   "nbconvert_exporter": "python",
   "pygments_lexer": "ipython3",
   "version": "3.8.0"
  }
 },
 "nbformat": 4,
 "nbformat_minor": 2
}
